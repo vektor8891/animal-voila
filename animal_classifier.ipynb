{
 "cells": [
  {
   "source": [
    "# Image Classifier\n",
    "\n",
    "This demo project was made by Viktor Szabó based on Jeremy Howard's [fast.ai](https://course.fast.ai/) course.\n",
    "\n",
    "## Instructions\n",
    "\n",
    "1. Download an image of a dog, a mouse or a cat. **WARNING**: The model was trained to recognize only these three animals. It will not work for other animals.\n",
    "1. Upload the selected image via the button below.\n",
    "1. You can see the model's prediction right below the image.\n"
   ],
   "cell_type": "markdown",
   "metadata": {}
  },
  {
   "cell_type": "code",
   "execution_count": 11,
   "metadata": {},
   "outputs": [],
   "source": [
    "# setup\n",
    "from fastai.vision.all import *\n",
    "from fastai.vision.widgets import *"
   ]
  },
  {
   "cell_type": "code",
   "execution_count": 5,
   "metadata": {},
   "outputs": [],
   "source": [
    "# load trained model\n",
    "path = Path()\n",
    "learn_inf = load_learner(path/'export.pkl', cpu=True)"
   ]
  },
  {
   "cell_type": "code",
   "execution_count": 22,
   "metadata": {},
   "outputs": [],
   "source": [
    "# setup widgets\n",
    "import traceback\n",
    "\n",
    "try:\n",
    "    out_pl = widgets.Output()\n",
    "    btn_upload = widgets.FileUpload()\n",
    "    lbl_pred = widgets.Label()\n",
    "\n",
    "    def on_data_change(change):\n",
    "        img = PILImage.create(btn_upload.data[-1])\n",
    "        out_pl.clear_output()\n",
    "        with out_pl: display(img.to_thumb(128,128))\n",
    "        pred, pred_idx, probs = learn_inf.predict(img)\n",
    "        lbl_pred.value = f'Prediction: {pred}; Probability: {probs[pred_idx]:.04f}'\n",
    "\n",
    "    btn_upload.observe(on_data_change, names=['data'])\n",
    "except Exception as err:\n",
    "    traceback.print_tb(err.__traceback__)"
   ]
  },
  {
   "cell_type": "code",
   "execution_count": 23,
   "metadata": {},
   "outputs": [
    {
     "data": {
      "application/vnd.jupyter.widget-view+json": {
       "model_id": "841a5d87c9e24e81be84e8179eba8094",
       "version_major": 2,
       "version_minor": 0
      },
      "text/plain": [
       "VBox(children=(Label(value='Select your animal!'), FileUpload(value={}, description='Upload'), Button(descript…"
      ]
     },
     "metadata": {},
     "output_type": "display_data"
    },
    {
     "data": {
      "text/html": [],
      "text/plain": [
       "<IPython.core.display.HTML object>"
      ]
     },
     "metadata": {},
     "output_type": "display_data"
    }
   ],
   "source": [
    "# put everything together\n",
    "display(VBox([widgets.Label('Select your animal (cat, dog, or mouse)!'), btn_upload, out_pl, lbl_pred]))"
   ]
  }
 ],
 "metadata": {
  "kernelspec": {
   "display_name": "Python 3",
   "language": "python",
   "name": "python3"
  },
  "language_info": {
   "codemirror_mode": {
    "name": "ipython",
    "version": 3
   },
   "file_extension": ".py",
   "mimetype": "text/x-python",
   "name": "python",
   "nbconvert_exporter": "python",
   "pygments_lexer": "ipython3",
   "version": "3.8.6"
  }
 },
 "nbformat": 4,
 "nbformat_minor": 4
}